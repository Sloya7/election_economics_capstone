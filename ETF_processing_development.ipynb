{
 "cells": [
  {
   "cell_type": "markdown",
   "id": "d902388f-5006-47dd-98fc-c85b4c566b0c",
   "metadata": {},
   "source": [
    "## Market Data:\n",
    "    Preprocessing Development/Testing Scripts"
   ]
  },
  {
   "cell_type": "markdown",
   "id": "1799ea84-f930-495d-8b84-0a0ec77e0709",
   "metadata": {},
   "source": [
    "There are thousands of files that all span different lengths of time and values. The ultimate goal is to know if the market is moving in a staistically significant positive or negative direction. In order to make that determination, each individual relavant entity must be known as moving in a significant direction. As a stock like Apple might move hundreds of dollars in a month and not be considered significant but a start up companyu might move the same amount and might be quite significant for it. To try and minimize the impact of individual stocks or companies having a significant price movement, only the ETF files will be processed as they group similar categories of companies together and reduce seen market volitility."
   ]
  },
  {
   "cell_type": "markdown",
   "id": "76433001-52fd-475d-a1e9-15829ac526c8",
   "metadata": {},
   "source": [
    "This file develops the import and processing of an ETF file. Attributes that need to be retained are the ETF name, the year, and if the price made a significant positive or negative movement. This process will be implemented into a loop in another script to process all the ETFs.\n",
    "\n",
    "As this is a script to show the process the ETF data is going through, print statements are included however they are unneccessary during the actual processing."
   ]
  },
  {
   "cell_type": "code",
   "execution_count": 409,
   "id": "c5e19e69-274a-4b18-9950-7ce13c42ca86",
   "metadata": {},
   "outputs": [],
   "source": [
    "import pandas as pd\n",
    "import numpy as np\n",
    "import os "
   ]
  },
  {
   "cell_type": "markdown",
   "id": "ef2ffbaf-c69e-47c2-a304-305d1b8c1b39",
   "metadata": {},
   "source": [
    "Obtain the file path and extract the ETF name"
   ]
  },
  {
   "cell_type": "code",
   "execution_count": 361,
   "id": "2f10da73-0fcd-45c6-9d65-effc1608d784",
   "metadata": {},
   "outputs": [
    {
     "name": "stdout",
     "output_type": "stream",
     "text": [
      "aadr.us\n"
     ]
    }
   ],
   "source": [
    "# assigns the relative file path. This will be an object instead of a named file path in the looped script\n",
    "file = \"Data/markets_test/aadr.us.txt\"\n",
    "#takes the string after the last '/'\n",
    "etf_name = os.path.basename(os.path.normpath(file))\n",
    "#removes the .txt of the file string\n",
    "etf_name = etf_name.replace('.txt', '')\n",
    "print(etf_name)"
   ]
  },
  {
   "cell_type": "markdown",
   "id": "3ebf67a1-948f-4ee0-a339-bdf1862a6cb1",
   "metadata": {},
   "source": [
    "### Familiarize with data\n",
    "  ###Not needed during looping script!!##"
   ]
  },
  {
   "cell_type": "code",
   "execution_count": 362,
   "id": "5ce73bfe-8d3e-4198-8ba4-aab08de91aff",
   "metadata": {},
   "outputs": [],
   "source": [
    "test_etf = pd.read_csv(file)"
   ]
  },
  {
   "cell_type": "code",
   "execution_count": 363,
   "id": "186097dd-a8a5-471a-b30a-7a92aea055df",
   "metadata": {},
   "outputs": [
    {
     "data": {
      "text/plain": [
       "('Min',\n",
       " Date       2010-07-21\n",
       " Open           23.936\n",
       " High           23.946\n",
       " Low            23.867\n",
       " Close          23.946\n",
       " Volume              2\n",
       " OpenInt             0\n",
       " dtype: object,\n",
       " 'Max',\n",
       " Date       2017-11-10\n",
       " Open            58.62\n",
       " High            58.72\n",
       " Low              57.7\n",
       " Close           58.43\n",
       " Volume         106139\n",
       " OpenInt             0\n",
       " dtype: object)"
      ]
     },
     "execution_count": 363,
     "metadata": {},
     "output_type": "execute_result"
    }
   ],
   "source": [
    "\"Min\", test_etf.min(), \"Max\", test_etf.max()"
   ]
  },
  {
   "cell_type": "code",
   "execution_count": 364,
   "id": "254f815c-8003-4e52-9cb7-bf38378d676a",
   "metadata": {},
   "outputs": [
    {
     "name": "stdout",
     "output_type": "stream",
     "text": [
      "<class 'pandas.core.series.Series'>\n",
      "RangeIndex: 1565 entries, 0 to 1564\n",
      "Series name: Date\n",
      "Non-Null Count  Dtype \n",
      "--------------  ----- \n",
      "1565 non-null   object\n",
      "dtypes: object(1)\n",
      "memory usage: 12.4+ KB\n"
     ]
    }
   ],
   "source": [
    "test_etf.Date.info()"
   ]
  },
  {
   "cell_type": "code",
   "execution_count": 365,
   "id": "c0cd94c0-398e-4621-8a9a-666409f3579c",
   "metadata": {},
   "outputs": [
    {
     "name": "stdout",
     "output_type": "stream",
     "text": [
      "<class 'pandas.core.frame.DataFrame'>\n",
      "RangeIndex: 1565 entries, 0 to 1564\n",
      "Data columns (total 7 columns):\n",
      " #   Column   Non-Null Count  Dtype  \n",
      "---  ------   --------------  -----  \n",
      " 0   Date     1565 non-null   object \n",
      " 1   Open     1565 non-null   float64\n",
      " 2   High     1565 non-null   float64\n",
      " 3   Low      1565 non-null   float64\n",
      " 4   Close    1565 non-null   float64\n",
      " 5   Volume   1565 non-null   int64  \n",
      " 6   OpenInt  1565 non-null   int64  \n",
      "dtypes: float64(4), int64(2), object(1)\n",
      "memory usage: 85.7+ KB\n"
     ]
    }
   ],
   "source": [
    "test_etf.info()"
   ]
  },
  {
   "cell_type": "markdown",
   "id": "566635a5-18f0-4a7e-9cef-c26c811a8f47",
   "metadata": {},
   "source": [
    "#### Drop unneeded columns: OpenInt, Volume, Low, High"
   ]
  },
  {
   "cell_type": "code",
   "execution_count": 366,
   "id": "ae8546e8-3fa3-4a49-a6fc-4b30c45cd205",
   "metadata": {},
   "outputs": [],
   "source": [
    "drop_columns = [\"OpenInt\", \"Volume\", \"Low\", \"High\"]\n",
    "test_drop = test_etf.drop(drop_columns, axis = 1, inplace = True)"
   ]
  },
  {
   "cell_type": "code",
   "execution_count": 367,
   "id": "f66ff6b7-7eea-4c8c-8061-9c8c245f43e8",
   "metadata": {},
   "outputs": [
    {
     "data": {
      "text/html": [
       "<div>\n",
       "<style scoped>\n",
       "    .dataframe tbody tr th:only-of-type {\n",
       "        vertical-align: middle;\n",
       "    }\n",
       "\n",
       "    .dataframe tbody tr th {\n",
       "        vertical-align: top;\n",
       "    }\n",
       "\n",
       "    .dataframe thead th {\n",
       "        text-align: right;\n",
       "    }\n",
       "</style>\n",
       "<table border=\"1\" class=\"dataframe\">\n",
       "  <thead>\n",
       "    <tr style=\"text-align: right;\">\n",
       "      <th></th>\n",
       "      <th>Date</th>\n",
       "      <th>Open</th>\n",
       "      <th>Close</th>\n",
       "    </tr>\n",
       "  </thead>\n",
       "  <tbody>\n",
       "    <tr>\n",
       "      <th>0</th>\n",
       "      <td>2010-07-21</td>\n",
       "      <td>24.333</td>\n",
       "      <td>23.946</td>\n",
       "    </tr>\n",
       "    <tr>\n",
       "      <th>1</th>\n",
       "      <td>2010-07-22</td>\n",
       "      <td>24.644</td>\n",
       "      <td>24.487</td>\n",
       "    </tr>\n",
       "    <tr>\n",
       "      <th>2</th>\n",
       "      <td>2010-07-23</td>\n",
       "      <td>24.759</td>\n",
       "      <td>24.507</td>\n",
       "    </tr>\n",
       "    <tr>\n",
       "      <th>3</th>\n",
       "      <td>2010-07-26</td>\n",
       "      <td>24.624</td>\n",
       "      <td>24.595</td>\n",
       "    </tr>\n",
       "    <tr>\n",
       "      <th>4</th>\n",
       "      <td>2010-07-27</td>\n",
       "      <td>24.477</td>\n",
       "      <td>24.517</td>\n",
       "    </tr>\n",
       "  </tbody>\n",
       "</table>\n",
       "</div>"
      ],
      "text/plain": [
       "         Date    Open   Close\n",
       "0  2010-07-21  24.333  23.946\n",
       "1  2010-07-22  24.644  24.487\n",
       "2  2010-07-23  24.759  24.507\n",
       "3  2010-07-26  24.624  24.595\n",
       "4  2010-07-27  24.477  24.517"
      ]
     },
     "execution_count": 367,
     "metadata": {},
     "output_type": "execute_result"
    }
   ],
   "source": [
    "test_etf.head()"
   ]
  },
  {
   "cell_type": "code",
   "execution_count": 368,
   "id": "39363ed4-ec09-418b-a27a-18a3b34c3b03",
   "metadata": {},
   "outputs": [],
   "source": [
    "# Add a column that shows sum of \"Open\" and \"Close\" for daily change\n",
    "\n",
    "test_etf['change']= test_etf['Open'] - test_etf['Close']"
   ]
  },
  {
   "cell_type": "code",
   "execution_count": 369,
   "id": "10e00055-8069-4b63-a2d7-e645fbb92d21",
   "metadata": {},
   "outputs": [
    {
     "data": {
      "text/html": [
       "<div>\n",
       "<style scoped>\n",
       "    .dataframe tbody tr th:only-of-type {\n",
       "        vertical-align: middle;\n",
       "    }\n",
       "\n",
       "    .dataframe tbody tr th {\n",
       "        vertical-align: top;\n",
       "    }\n",
       "\n",
       "    .dataframe thead th {\n",
       "        text-align: right;\n",
       "    }\n",
       "</style>\n",
       "<table border=\"1\" class=\"dataframe\">\n",
       "  <thead>\n",
       "    <tr style=\"text-align: right;\">\n",
       "      <th></th>\n",
       "      <th>Date</th>\n",
       "      <th>Open</th>\n",
       "      <th>Close</th>\n",
       "      <th>change</th>\n",
       "    </tr>\n",
       "  </thead>\n",
       "  <tbody>\n",
       "    <tr>\n",
       "      <th>0</th>\n",
       "      <td>2010-07-21</td>\n",
       "      <td>24.333</td>\n",
       "      <td>23.946</td>\n",
       "      <td>0.387</td>\n",
       "    </tr>\n",
       "    <tr>\n",
       "      <th>1</th>\n",
       "      <td>2010-07-22</td>\n",
       "      <td>24.644</td>\n",
       "      <td>24.487</td>\n",
       "      <td>0.157</td>\n",
       "    </tr>\n",
       "    <tr>\n",
       "      <th>2</th>\n",
       "      <td>2010-07-23</td>\n",
       "      <td>24.759</td>\n",
       "      <td>24.507</td>\n",
       "      <td>0.252</td>\n",
       "    </tr>\n",
       "    <tr>\n",
       "      <th>3</th>\n",
       "      <td>2010-07-26</td>\n",
       "      <td>24.624</td>\n",
       "      <td>24.595</td>\n",
       "      <td>0.029</td>\n",
       "    </tr>\n",
       "    <tr>\n",
       "      <th>4</th>\n",
       "      <td>2010-07-27</td>\n",
       "      <td>24.477</td>\n",
       "      <td>24.517</td>\n",
       "      <td>-0.040</td>\n",
       "    </tr>\n",
       "  </tbody>\n",
       "</table>\n",
       "</div>"
      ],
      "text/plain": [
       "         Date    Open   Close  change\n",
       "0  2010-07-21  24.333  23.946   0.387\n",
       "1  2010-07-22  24.644  24.487   0.157\n",
       "2  2010-07-23  24.759  24.507   0.252\n",
       "3  2010-07-26  24.624  24.595   0.029\n",
       "4  2010-07-27  24.477  24.517  -0.040"
      ]
     },
     "execution_count": 369,
     "metadata": {},
     "output_type": "execute_result"
    }
   ],
   "source": [
    "test_etf.head()"
   ]
  },
  {
   "cell_type": "markdown",
   "id": "1fc6c119-4b53-4c2f-b3ee-5aeb27adb587",
   "metadata": {},
   "source": [
    "#### Add the name of the ETF"
   ]
  },
  {
   "cell_type": "code",
   "execution_count": 370,
   "id": "291128b8-5d09-478c-bb6f-f5729d8a52d0",
   "metadata": {},
   "outputs": [],
   "source": [
    "test_etf['ETF_name'] = etf_name"
   ]
  },
  {
   "cell_type": "markdown",
   "id": "b9947c76-107d-47e5-86d5-c6f5629d3854",
   "metadata": {},
   "source": [
    "#### Adjust the Date column for better processing"
   ]
  },
  {
   "cell_type": "code",
   "execution_count": 371,
   "id": "aef422d8-163e-42b9-b0e5-df6a4f99d789",
   "metadata": {},
   "outputs": [],
   "source": [
    "#convert sting to datetime format\n",
    "test_etf['Date'] = pd.to_datetime(test_etf.Date) "
   ]
  },
  {
   "cell_type": "code",
   "execution_count": 372,
   "id": "3880e6f5-fce9-4c0c-be85-9c3480aaa9bf",
   "metadata": {},
   "outputs": [],
   "source": [
    "# seperate year, month and day\n",
    "#test_etf['Year'], test_etf['Month'], test_etf['Day'] = test_etf.Date.dt.year, test_etf.Date.dt.month, test_etf.Date.dt.day\n",
    "test_etf['Year'] = test_etf.Date.dt.year"
   ]
  },
  {
   "cell_type": "code",
   "execution_count": 373,
   "id": "b79dd0ea-6f3b-4030-83e9-81f8e9e0cad6",
   "metadata": {},
   "outputs": [],
   "source": [
    "#drop original date column\n",
    "#test_etf.drop(columns = 'Date', axis =1, inplace = True)"
   ]
  },
  {
   "cell_type": "code",
   "execution_count": 374,
   "id": "b11b847d-848d-4aa5-ae8f-ba8e6e4a9f2f",
   "metadata": {},
   "outputs": [
    {
     "data": {
      "text/html": [
       "<div>\n",
       "<style scoped>\n",
       "    .dataframe tbody tr th:only-of-type {\n",
       "        vertical-align: middle;\n",
       "    }\n",
       "\n",
       "    .dataframe tbody tr th {\n",
       "        vertical-align: top;\n",
       "    }\n",
       "\n",
       "    .dataframe thead th {\n",
       "        text-align: right;\n",
       "    }\n",
       "</style>\n",
       "<table border=\"1\" class=\"dataframe\">\n",
       "  <thead>\n",
       "    <tr style=\"text-align: right;\">\n",
       "      <th></th>\n",
       "      <th>Date</th>\n",
       "      <th>Open</th>\n",
       "      <th>Close</th>\n",
       "      <th>change</th>\n",
       "      <th>ETF_name</th>\n",
       "      <th>Year</th>\n",
       "    </tr>\n",
       "  </thead>\n",
       "  <tbody>\n",
       "    <tr>\n",
       "      <th>0</th>\n",
       "      <td>2010-07-21</td>\n",
       "      <td>24.333</td>\n",
       "      <td>23.946</td>\n",
       "      <td>0.387</td>\n",
       "      <td>aadr.us</td>\n",
       "      <td>2010</td>\n",
       "    </tr>\n",
       "    <tr>\n",
       "      <th>1</th>\n",
       "      <td>2010-07-22</td>\n",
       "      <td>24.644</td>\n",
       "      <td>24.487</td>\n",
       "      <td>0.157</td>\n",
       "      <td>aadr.us</td>\n",
       "      <td>2010</td>\n",
       "    </tr>\n",
       "    <tr>\n",
       "      <th>2</th>\n",
       "      <td>2010-07-23</td>\n",
       "      <td>24.759</td>\n",
       "      <td>24.507</td>\n",
       "      <td>0.252</td>\n",
       "      <td>aadr.us</td>\n",
       "      <td>2010</td>\n",
       "    </tr>\n",
       "    <tr>\n",
       "      <th>3</th>\n",
       "      <td>2010-07-26</td>\n",
       "      <td>24.624</td>\n",
       "      <td>24.595</td>\n",
       "      <td>0.029</td>\n",
       "      <td>aadr.us</td>\n",
       "      <td>2010</td>\n",
       "    </tr>\n",
       "    <tr>\n",
       "      <th>4</th>\n",
       "      <td>2010-07-27</td>\n",
       "      <td>24.477</td>\n",
       "      <td>24.517</td>\n",
       "      <td>-0.040</td>\n",
       "      <td>aadr.us</td>\n",
       "      <td>2010</td>\n",
       "    </tr>\n",
       "  </tbody>\n",
       "</table>\n",
       "</div>"
      ],
      "text/plain": [
       "        Date    Open   Close  change ETF_name  Year\n",
       "0 2010-07-21  24.333  23.946   0.387  aadr.us  2010\n",
       "1 2010-07-22  24.644  24.487   0.157  aadr.us  2010\n",
       "2 2010-07-23  24.759  24.507   0.252  aadr.us  2010\n",
       "3 2010-07-26  24.624  24.595   0.029  aadr.us  2010\n",
       "4 2010-07-27  24.477  24.517  -0.040  aadr.us  2010"
      ]
     },
     "execution_count": 374,
     "metadata": {},
     "output_type": "execute_result"
    }
   ],
   "source": [
    "test_etf.head()"
   ]
  },
  {
   "cell_type": "markdown",
   "id": "4165a2ad-281f-4fa6-8302-174553f6a19d",
   "metadata": {},
   "source": [
    "#### Create Open and Close values for each Year"
   ]
  },
  {
   "cell_type": "code",
   "execution_count": 411,
   "id": "94d4974a-f7c0-436c-9f11-a61cd08a1174",
   "metadata": {},
   "outputs": [],
   "source": [
    "# create dataframe grouped by year\n",
    "year_df = test_etf.groupby('Year')"
   ]
  },
  {
   "cell_type": "code",
   "execution_count": 412,
   "id": "0ac7fdf1-8a7a-4a6c-87f9-620d862bb62d",
   "metadata": {},
   "outputs": [],
   "source": [
    "# Find the first and last day of the year for each year\n",
    "earliest_dates = year_df.Date.min()\n",
    "last_dates = year_df.Date.max()"
   ]
  },
  {
   "cell_type": "code",
   "execution_count": 413,
   "id": "3b839d00-9cd5-4fef-bc2e-45e5be0323e2",
   "metadata": {},
   "outputs": [],
   "source": [
    "start_end_dates = test_etf.query(\"Date in @earliest_dates or Date in @last_dates\")"
   ]
  },
  {
   "cell_type": "code",
   "execution_count": 438,
   "id": "38978fb2-b0fe-45bb-95b7-d9c5b72e1d38",
   "metadata": {},
   "outputs": [
    {
     "data": {
      "text/html": [
       "<div>\n",
       "<style scoped>\n",
       "    .dataframe tbody tr th:only-of-type {\n",
       "        vertical-align: middle;\n",
       "    }\n",
       "\n",
       "    .dataframe tbody tr th {\n",
       "        vertical-align: top;\n",
       "    }\n",
       "\n",
       "    .dataframe thead th {\n",
       "        text-align: right;\n",
       "    }\n",
       "</style>\n",
       "<table border=\"1\" class=\"dataframe\">\n",
       "  <thead>\n",
       "    <tr style=\"text-align: right;\">\n",
       "      <th></th>\n",
       "      <th>Date</th>\n",
       "      <th>Open</th>\n",
       "      <th>Close</th>\n",
       "      <th>change</th>\n",
       "      <th>ETF_name</th>\n",
       "      <th>Year</th>\n",
       "    </tr>\n",
       "  </thead>\n",
       "  <tbody>\n",
       "    <tr>\n",
       "      <th>0</th>\n",
       "      <td>2010-07-21</td>\n",
       "      <td>24.333</td>\n",
       "      <td>23.946</td>\n",
       "      <td>0.387</td>\n",
       "      <td>aadr.us</td>\n",
       "      <td>2010</td>\n",
       "    </tr>\n",
       "    <tr>\n",
       "      <th>112</th>\n",
       "      <td>2010-12-31</td>\n",
       "      <td>28.823</td>\n",
       "      <td>28.928</td>\n",
       "      <td>-0.105</td>\n",
       "      <td>aadr.us</td>\n",
       "      <td>2010</td>\n",
       "    </tr>\n",
       "    <tr>\n",
       "      <th>113</th>\n",
       "      <td>2011-01-03</td>\n",
       "      <td>29.065</td>\n",
       "      <td>29.141</td>\n",
       "      <td>-0.076</td>\n",
       "      <td>aadr.us</td>\n",
       "      <td>2011</td>\n",
       "    </tr>\n",
       "    <tr>\n",
       "      <th>309</th>\n",
       "      <td>2011-12-30</td>\n",
       "      <td>27.155</td>\n",
       "      <td>27.252</td>\n",
       "      <td>-0.097</td>\n",
       "      <td>aadr.us</td>\n",
       "      <td>2011</td>\n",
       "    </tr>\n",
       "    <tr>\n",
       "      <th>310</th>\n",
       "      <td>2012-01-03</td>\n",
       "      <td>28.087</td>\n",
       "      <td>27.766</td>\n",
       "      <td>0.321</td>\n",
       "      <td>aadr.us</td>\n",
       "      <td>2012</td>\n",
       "    </tr>\n",
       "    <tr>\n",
       "      <th>459</th>\n",
       "      <td>2012-12-31</td>\n",
       "      <td>30.107</td>\n",
       "      <td>29.853</td>\n",
       "      <td>0.254</td>\n",
       "      <td>aadr.us</td>\n",
       "      <td>2012</td>\n",
       "    </tr>\n",
       "    <tr>\n",
       "      <th>460</th>\n",
       "      <td>2013-01-02</td>\n",
       "      <td>30.741</td>\n",
       "      <td>30.593</td>\n",
       "      <td>0.148</td>\n",
       "      <td>aadr.us</td>\n",
       "      <td>2013</td>\n",
       "    </tr>\n",
       "    <tr>\n",
       "      <th>662</th>\n",
       "      <td>2013-12-31</td>\n",
       "      <td>37.059</td>\n",
       "      <td>36.532</td>\n",
       "      <td>0.527</td>\n",
       "      <td>aadr.us</td>\n",
       "      <td>2013</td>\n",
       "    </tr>\n",
       "    <tr>\n",
       "      <th>663</th>\n",
       "      <td>2014-01-02</td>\n",
       "      <td>36.921</td>\n",
       "      <td>36.356</td>\n",
       "      <td>0.565</td>\n",
       "      <td>aadr.us</td>\n",
       "      <td>2014</td>\n",
       "    </tr>\n",
       "    <tr>\n",
       "      <th>883</th>\n",
       "      <td>2014-12-31</td>\n",
       "      <td>36.687</td>\n",
       "      <td>36.687</td>\n",
       "      <td>0.000</td>\n",
       "      <td>aadr.us</td>\n",
       "      <td>2014</td>\n",
       "    </tr>\n",
       "    <tr>\n",
       "      <th>884</th>\n",
       "      <td>2015-01-02</td>\n",
       "      <td>36.491</td>\n",
       "      <td>35.894</td>\n",
       "      <td>0.597</td>\n",
       "      <td>aadr.us</td>\n",
       "      <td>2015</td>\n",
       "    </tr>\n",
       "    <tr>\n",
       "      <th>1116</th>\n",
       "      <td>2015-12-31</td>\n",
       "      <td>38.053</td>\n",
       "      <td>38.053</td>\n",
       "      <td>0.000</td>\n",
       "      <td>aadr.us</td>\n",
       "      <td>2015</td>\n",
       "    </tr>\n",
       "    <tr>\n",
       "      <th>1117</th>\n",
       "      <td>2016-01-04</td>\n",
       "      <td>39.941</td>\n",
       "      <td>37.250</td>\n",
       "      <td>2.691</td>\n",
       "      <td>aadr.us</td>\n",
       "      <td>2016</td>\n",
       "    </tr>\n",
       "    <tr>\n",
       "      <th>1346</th>\n",
       "      <td>2016-12-30</td>\n",
       "      <td>40.016</td>\n",
       "      <td>39.916</td>\n",
       "      <td>0.100</td>\n",
       "      <td>aadr.us</td>\n",
       "      <td>2016</td>\n",
       "    </tr>\n",
       "    <tr>\n",
       "      <th>1347</th>\n",
       "      <td>2017-01-03</td>\n",
       "      <td>40.711</td>\n",
       "      <td>40.976</td>\n",
       "      <td>-0.265</td>\n",
       "      <td>aadr.us</td>\n",
       "      <td>2017</td>\n",
       "    </tr>\n",
       "    <tr>\n",
       "      <th>1564</th>\n",
       "      <td>2017-11-10</td>\n",
       "      <td>56.960</td>\n",
       "      <td>56.400</td>\n",
       "      <td>0.560</td>\n",
       "      <td>aadr.us</td>\n",
       "      <td>2017</td>\n",
       "    </tr>\n",
       "  </tbody>\n",
       "</table>\n",
       "</div>"
      ],
      "text/plain": [
       "           Date    Open   Close  change ETF_name  Year\n",
       "0    2010-07-21  24.333  23.946   0.387  aadr.us  2010\n",
       "112  2010-12-31  28.823  28.928  -0.105  aadr.us  2010\n",
       "113  2011-01-03  29.065  29.141  -0.076  aadr.us  2011\n",
       "309  2011-12-30  27.155  27.252  -0.097  aadr.us  2011\n",
       "310  2012-01-03  28.087  27.766   0.321  aadr.us  2012\n",
       "459  2012-12-31  30.107  29.853   0.254  aadr.us  2012\n",
       "460  2013-01-02  30.741  30.593   0.148  aadr.us  2013\n",
       "662  2013-12-31  37.059  36.532   0.527  aadr.us  2013\n",
       "663  2014-01-02  36.921  36.356   0.565  aadr.us  2014\n",
       "883  2014-12-31  36.687  36.687   0.000  aadr.us  2014\n",
       "884  2015-01-02  36.491  35.894   0.597  aadr.us  2015\n",
       "1116 2015-12-31  38.053  38.053   0.000  aadr.us  2015\n",
       "1117 2016-01-04  39.941  37.250   2.691  aadr.us  2016\n",
       "1346 2016-12-30  40.016  39.916   0.100  aadr.us  2016\n",
       "1347 2017-01-03  40.711  40.976  -0.265  aadr.us  2017\n",
       "1564 2017-11-10  56.960  56.400   0.560  aadr.us  2017"
      ]
     },
     "execution_count": 438,
     "metadata": {},
     "output_type": "execute_result"
    }
   ],
   "source": [
    "start_end_dates"
   ]
  },
  {
   "cell_type": "code",
   "execution_count": 389,
   "id": "d503e69a-febf-4ba9-b34a-a1ccc950f4ac",
   "metadata": {},
   "outputs": [],
   "source": [
    "year = start_end_dates.Year.unique()"
   ]
  },
  {
   "cell_type": "code",
   "execution_count": 482,
   "id": "fd6ab24a-50f7-4123-ba2b-5ee793769abe",
   "metadata": {},
   "outputs": [
    {
     "data": {
      "text/html": [
       "<div>\n",
       "<style scoped>\n",
       "    .dataframe tbody tr th:only-of-type {\n",
       "        vertical-align: middle;\n",
       "    }\n",
       "\n",
       "    .dataframe tbody tr th {\n",
       "        vertical-align: top;\n",
       "    }\n",
       "\n",
       "    .dataframe thead th {\n",
       "        text-align: right;\n",
       "    }\n",
       "</style>\n",
       "<table border=\"1\" class=\"dataframe\">\n",
       "  <thead>\n",
       "    <tr style=\"text-align: right;\">\n",
       "      <th></th>\n",
       "      <th>Year</th>\n",
       "      <th>ETF_name</th>\n",
       "      <th>Year_Open</th>\n",
       "      <th>Year_Close</th>\n",
       "      <th>Year_Change</th>\n",
       "      <th>Loss</th>\n",
       "      <th>Gain</th>\n",
       "    </tr>\n",
       "  </thead>\n",
       "  <tbody>\n",
       "    <tr>\n",
       "      <th>0</th>\n",
       "      <td>2010</td>\n",
       "      <td>aadr.us</td>\n",
       "      <td>24.333</td>\n",
       "      <td>28.928</td>\n",
       "      <td>4.595</td>\n",
       "      <td>no</td>\n",
       "      <td>no</td>\n",
       "    </tr>\n",
       "    <tr>\n",
       "      <th>1</th>\n",
       "      <td>2011</td>\n",
       "      <td>aadr.us</td>\n",
       "      <td>29.065</td>\n",
       "      <td>27.252</td>\n",
       "      <td>-1.813</td>\n",
       "      <td>no</td>\n",
       "      <td>no</td>\n",
       "    </tr>\n",
       "    <tr>\n",
       "      <th>2</th>\n",
       "      <td>2012</td>\n",
       "      <td>aadr.us</td>\n",
       "      <td>28.087</td>\n",
       "      <td>29.853</td>\n",
       "      <td>1.766</td>\n",
       "      <td>no</td>\n",
       "      <td>no</td>\n",
       "    </tr>\n",
       "    <tr>\n",
       "      <th>3</th>\n",
       "      <td>2013</td>\n",
       "      <td>aadr.us</td>\n",
       "      <td>30.741</td>\n",
       "      <td>36.532</td>\n",
       "      <td>5.791</td>\n",
       "      <td>no</td>\n",
       "      <td>no</td>\n",
       "    </tr>\n",
       "    <tr>\n",
       "      <th>4</th>\n",
       "      <td>2014</td>\n",
       "      <td>aadr.us</td>\n",
       "      <td>36.921</td>\n",
       "      <td>36.687</td>\n",
       "      <td>-0.234</td>\n",
       "      <td>no</td>\n",
       "      <td>no</td>\n",
       "    </tr>\n",
       "    <tr>\n",
       "      <th>5</th>\n",
       "      <td>2015</td>\n",
       "      <td>aadr.us</td>\n",
       "      <td>36.491</td>\n",
       "      <td>38.053</td>\n",
       "      <td>1.562</td>\n",
       "      <td>no</td>\n",
       "      <td>no</td>\n",
       "    </tr>\n",
       "    <tr>\n",
       "      <th>6</th>\n",
       "      <td>2016</td>\n",
       "      <td>aadr.us</td>\n",
       "      <td>39.941</td>\n",
       "      <td>39.916</td>\n",
       "      <td>-0.025</td>\n",
       "      <td>no</td>\n",
       "      <td>no</td>\n",
       "    </tr>\n",
       "    <tr>\n",
       "      <th>7</th>\n",
       "      <td>2017</td>\n",
       "      <td>aadr.us</td>\n",
       "      <td>40.711</td>\n",
       "      <td>56.400</td>\n",
       "      <td>15.689</td>\n",
       "      <td>no</td>\n",
       "      <td>no</td>\n",
       "    </tr>\n",
       "  </tbody>\n",
       "</table>\n",
       "</div>"
      ],
      "text/plain": [
       "   Year ETF_name  Year_Open  Year_Close  Year_Change Loss Gain\n",
       "0  2010  aadr.us     24.333      28.928        4.595   no   no\n",
       "1  2011  aadr.us     29.065      27.252       -1.813   no   no\n",
       "2  2012  aadr.us     28.087      29.853        1.766   no   no\n",
       "3  2013  aadr.us     30.741      36.532        5.791   no   no\n",
       "4  2014  aadr.us     36.921      36.687       -0.234   no   no\n",
       "5  2015  aadr.us     36.491      38.053        1.562   no   no\n",
       "6  2016  aadr.us     39.941      39.916       -0.025   no   no\n",
       "7  2017  aadr.us     40.711      56.400       15.689   no   no"
      ]
     },
     "execution_count": 482,
     "metadata": {},
     "output_type": "execute_result"
    }
   ],
   "source": [
    "# create dataframe that to place needed values in\n",
    "output_df = pd.DataFrame(columns = [ 'Year','ETF_name','Year_Open', 'Year_Close', 'Year_Change', 'Loss', 'Gain'])\n",
    "\n",
    "\n",
    "#loop to generate new row in output database\n",
    "for i in start_end_dates.Year.unique():\n",
    "\n",
    "    #groups date data by year\n",
    "    year_df = start_end_dates[start_end_dates.Year == i]\n",
    "\n",
    "    #uses objects to reference needed values\n",
    "    open = year_df.iloc[0].Open\n",
    "    close = year_df.iloc[1].Close\n",
    "    change = close - open\n",
    "    \n",
    "    # creates mapping array \n",
    "    new_row = {'Year':i, 'ETF_name':year_df.iloc[0].ETF_name, 'Year_Open':open, 'Year_Close':close, 'Year_Change':change}\n",
    "    \n",
    "    # inserts data into new row of the output dataframe\n",
    "    output_df.loc[len(output_df)] = new_row\n",
    "\n",
    "output_df['Loss'] = 'no'\n",
    "output_df['Gain'] = 'no'\n",
    "\n",
    "output_df"
   ]
  },
  {
   "cell_type": "markdown",
   "id": "61b1647f-de53-4095-a3ca-58165f1a3d8a",
   "metadata": {},
   "source": [
    "#### Set upper and lower boundries for significant change\n",
    " This set any value over the 80 quantile or under the 20 quantile as notable"
   ]
  },
  {
   "cell_type": "code",
   "execution_count": 445,
   "id": "6274398d-d566-424d-8908-443613cdd5e2",
   "metadata": {},
   "outputs": [
    {
     "data": {
      "text/plain": [
       "(5.3126, -0.1504000000000033)"
      ]
     },
     "execution_count": 445,
     "metadata": {},
     "output_type": "execute_result"
    }
   ],
   "source": [
    "# sets the 80% and 20% boundries\n",
    "etf_high_lim = output_df.Year_Change.quantile(.8)\n",
    "etf_low_lim = output_df.Year_Change.quantile(.2)\n",
    "etf_high_lim, etf_low_lim"
   ]
  },
  {
   "cell_type": "code",
   "execution_count": 483,
   "id": "c68f1d7d-84ff-4f7c-a3d0-448860780bfe",
   "metadata": {},
   "outputs": [
    {
     "name": "stdout",
     "output_type": "stream",
     "text": [
      "changed bad_year\n",
      "changed good_year\n",
      "changed bad_year\n",
      "changed good_year\n"
     ]
    }
   ],
   "source": [
    "# compare the mean value of each year to the 20 and 80 limits previously set and \n",
    "# create a column documenting if it was outside the low/high lim\n",
    "\n",
    "for i in range(len(output_df)):\n",
    "    if output_df.Year_Change.iloc[i] < etf_low_lim:\n",
    "        output_df.loc[i, 'Loss'] = 'yes'\n",
    "        print('changed bad_year')\n",
    "    elif output_df.Year_Change.iloc[i] > etf_high_lim:\n",
    "        output_df.loc[i,'Gain'] = 'yes'\n",
    "        print('changed good_year')\n",
    "    else: \n",
    "        continue"
   ]
  },
  {
   "cell_type": "code",
   "execution_count": 484,
   "id": "83bb9ef4-d3a2-4d64-94d2-fb39b5879712",
   "metadata": {},
   "outputs": [
    {
     "data": {
      "text/html": [
       "<div>\n",
       "<style scoped>\n",
       "    .dataframe tbody tr th:only-of-type {\n",
       "        vertical-align: middle;\n",
       "    }\n",
       "\n",
       "    .dataframe tbody tr th {\n",
       "        vertical-align: top;\n",
       "    }\n",
       "\n",
       "    .dataframe thead th {\n",
       "        text-align: right;\n",
       "    }\n",
       "</style>\n",
       "<table border=\"1\" class=\"dataframe\">\n",
       "  <thead>\n",
       "    <tr style=\"text-align: right;\">\n",
       "      <th></th>\n",
       "      <th>Year</th>\n",
       "      <th>ETF_name</th>\n",
       "      <th>Year_Open</th>\n",
       "      <th>Year_Close</th>\n",
       "      <th>Year_Change</th>\n",
       "      <th>Loss</th>\n",
       "      <th>Gain</th>\n",
       "    </tr>\n",
       "  </thead>\n",
       "  <tbody>\n",
       "    <tr>\n",
       "      <th>0</th>\n",
       "      <td>2010</td>\n",
       "      <td>aadr.us</td>\n",
       "      <td>24.333</td>\n",
       "      <td>28.928</td>\n",
       "      <td>4.595</td>\n",
       "      <td>no</td>\n",
       "      <td>no</td>\n",
       "    </tr>\n",
       "    <tr>\n",
       "      <th>1</th>\n",
       "      <td>2011</td>\n",
       "      <td>aadr.us</td>\n",
       "      <td>29.065</td>\n",
       "      <td>27.252</td>\n",
       "      <td>-1.813</td>\n",
       "      <td>yes</td>\n",
       "      <td>no</td>\n",
       "    </tr>\n",
       "    <tr>\n",
       "      <th>2</th>\n",
       "      <td>2012</td>\n",
       "      <td>aadr.us</td>\n",
       "      <td>28.087</td>\n",
       "      <td>29.853</td>\n",
       "      <td>1.766</td>\n",
       "      <td>no</td>\n",
       "      <td>no</td>\n",
       "    </tr>\n",
       "    <tr>\n",
       "      <th>3</th>\n",
       "      <td>2013</td>\n",
       "      <td>aadr.us</td>\n",
       "      <td>30.741</td>\n",
       "      <td>36.532</td>\n",
       "      <td>5.791</td>\n",
       "      <td>no</td>\n",
       "      <td>yes</td>\n",
       "    </tr>\n",
       "    <tr>\n",
       "      <th>4</th>\n",
       "      <td>2014</td>\n",
       "      <td>aadr.us</td>\n",
       "      <td>36.921</td>\n",
       "      <td>36.687</td>\n",
       "      <td>-0.234</td>\n",
       "      <td>yes</td>\n",
       "      <td>no</td>\n",
       "    </tr>\n",
       "    <tr>\n",
       "      <th>5</th>\n",
       "      <td>2015</td>\n",
       "      <td>aadr.us</td>\n",
       "      <td>36.491</td>\n",
       "      <td>38.053</td>\n",
       "      <td>1.562</td>\n",
       "      <td>no</td>\n",
       "      <td>no</td>\n",
       "    </tr>\n",
       "    <tr>\n",
       "      <th>6</th>\n",
       "      <td>2016</td>\n",
       "      <td>aadr.us</td>\n",
       "      <td>39.941</td>\n",
       "      <td>39.916</td>\n",
       "      <td>-0.025</td>\n",
       "      <td>no</td>\n",
       "      <td>no</td>\n",
       "    </tr>\n",
       "    <tr>\n",
       "      <th>7</th>\n",
       "      <td>2017</td>\n",
       "      <td>aadr.us</td>\n",
       "      <td>40.711</td>\n",
       "      <td>56.400</td>\n",
       "      <td>15.689</td>\n",
       "      <td>no</td>\n",
       "      <td>yes</td>\n",
       "    </tr>\n",
       "  </tbody>\n",
       "</table>\n",
       "</div>"
      ],
      "text/plain": [
       "   Year ETF_name  Year_Open  Year_Close  Year_Change Loss Gain\n",
       "0  2010  aadr.us     24.333      28.928        4.595   no   no\n",
       "1  2011  aadr.us     29.065      27.252       -1.813  yes   no\n",
       "2  2012  aadr.us     28.087      29.853        1.766   no   no\n",
       "3  2013  aadr.us     30.741      36.532        5.791   no  yes\n",
       "4  2014  aadr.us     36.921      36.687       -0.234  yes   no\n",
       "5  2015  aadr.us     36.491      38.053        1.562   no   no\n",
       "6  2016  aadr.us     39.941      39.916       -0.025   no   no\n",
       "7  2017  aadr.us     40.711      56.400       15.689   no  yes"
      ]
     },
     "execution_count": 484,
     "metadata": {},
     "output_type": "execute_result"
    }
   ],
   "source": [
    "output_df"
   ]
  }
 ],
 "metadata": {
  "kernelspec": {
   "display_name": "Python 3 (ipykernel)",
   "language": "python",
   "name": "python3"
  },
  "language_info": {
   "codemirror_mode": {
    "name": "ipython",
    "version": 3
   },
   "file_extension": ".py",
   "mimetype": "text/x-python",
   "name": "python",
   "nbconvert_exporter": "python",
   "pygments_lexer": "ipython3",
   "version": "3.12.4"
  }
 },
 "nbformat": 4,
 "nbformat_minor": 5
}
