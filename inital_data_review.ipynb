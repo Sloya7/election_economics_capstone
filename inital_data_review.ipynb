{
 "cells": [
  {
   "cell_type": "markdown",
   "id": "3a00afb7-a03c-430f-ad6a-03c97ace6f7d",
   "metadata": {},
   "source": [
    "# Data Introduction\n",
    "This notebook imports and takes a quick look at the data. Here the basic cleaning steps are identified. Actual cleaning will be applied in other scripts. Given the size and processing the stock market data will need, that data is reviewed and handled in other files."
   ]
  },
  {
   "cell_type": "code",
   "execution_count": 160,
   "id": "2c14ea3b",
   "metadata": {},
   "outputs": [],
   "source": [
    "import pandas as pd"
   ]
  },
  {
   "cell_type": "code",
   "execution_count": 175,
   "id": "0033a6e3-96c3-4df0-aec4-e405ac1de781",
   "metadata": {},
   "outputs": [
    {
     "name": "stdout",
     "output_type": "stream",
     "text": [
      "Package                   Version\n",
      "------------------------- --------------\n",
      "anaconda-anon-usage       0.4.4\n",
      "anyio                     4.4.0\n",
      "archspec                  0.2.3\n",
      "argon2-cffi               23.1.0\n",
      "argon2-cffi-bindings      21.2.0\n",
      "arrow                     1.3.0\n",
      "asttokens                 2.4.1\n",
      "async-lru                 2.0.4\n",
      "attrs                     24.2.0\n",
      "babel                     2.16.0\n",
      "beautifulsoup4            4.12.3\n",
      "bleach                    6.1.0\n",
      "boltons                   23.0.0\n",
      "Bottleneck                1.3.7\n",
      "Brotli                    1.0.9\n",
      "certifi                   2024.8.30\n",
      "cffi                      1.16.0\n",
      "charset-normalizer        2.0.4\n",
      "comm                      0.2.2\n",
      "conda                     24.7.1\n",
      "conda-content-trust       0.2.0\n",
      "conda-libmamba-solver     24.1.0\n",
      "conda-package-handling    2.3.0\n",
      "conda_package_streaming   0.10.0\n",
      "contourpy                 1.2.0\n",
      "cryptography              42.0.5\n",
      "cycler                    0.11.0\n",
      "debugpy                   1.8.5\n",
      "decorator                 5.1.1\n",
      "defusedxml                0.7.1\n",
      "distro                    1.9.0\n",
      "executing                 2.0.1\n",
      "fastjsonschema            2.20.0\n",
      "fonttools                 4.53.1\n",
      "fqdn                      1.5.1\n",
      "frozendict                2.4.2\n",
      "h11                       0.14.0\n",
      "httpcore                  1.0.5\n",
      "httpx                     0.27.0\n",
      "idna                      3.7\n",
      "ipykernel                 6.29.5\n",
      "ipython                   8.26.0\n",
      "ipywidgets                8.1.3\n",
      "isoduration               20.11.0\n",
      "jedi                      0.19.1\n",
      "Jinja2                    3.1.4\n",
      "joblib                    1.4.2\n",
      "json5                     0.9.25\n",
      "jsonpatch                 1.33\n",
      "jsonpointer               2.1\n",
      "jsonschema                4.23.0\n",
      "jsonschema-specifications 2023.12.1\n",
      "jupyter                   1.0.0\n",
      "jupyter_client            8.6.2\n",
      "jupyter-console           6.6.3\n",
      "jupyter_core              5.7.2\n",
      "jupyter-events            0.10.0\n",
      "jupyter-lsp               2.2.5\n",
      "jupyter_server            2.14.2\n",
      "jupyter_server_terminals  0.5.3\n",
      "jupyterlab                4.2.4\n",
      "jupyterlab_pygments       0.3.0\n",
      "jupyterlab_server         2.27.3\n",
      "jupyterlab_widgets        3.0.11\n",
      "kiwisolver                1.4.5\n",
      "libmambapy                1.5.8\n",
      "MarkupSafe                2.1.5\n",
      "matplotlib                3.9.2\n",
      "matplotlib-inline         0.1.7\n",
      "menuinst                  2.1.1\n",
      "mistune                   3.0.2\n",
      "mkl-fft                   1.3.8\n",
      "mkl-random                1.2.4\n",
      "mkl-service               2.4.0\n",
      "nbclient                  0.10.0\n",
      "nbconvert                 7.16.4\n",
      "nbformat                  5.10.4\n",
      "nest-asyncio              1.6.0\n",
      "notebook                  7.2.1\n",
      "notebook_shim             0.2.4\n",
      "numexpr                   2.8.7\n",
      "numpy                     2.1.0\n",
      "overrides                 7.7.0\n",
      "packaging                 23.2\n",
      "pandas                    2.2.2\n",
      "pandocfilters             1.5.1\n",
      "parso                     0.8.4\n",
      "pexpect                   4.9.0\n",
      "pillow                    10.4.0\n",
      "pip                       24.2\n",
      "platformdirs              3.10.0\n",
      "pluggy                    1.0.0\n",
      "ply                       3.11\n",
      "prometheus_client         0.20.0\n",
      "prompt_toolkit            3.0.47\n",
      "psutil                    6.0.0\n",
      "ptyprocess                0.7.0\n",
      "pure_eval                 0.2.3\n",
      "pycosat                   0.6.6\n",
      "pycparser                 2.21\n",
      "Pygments                  2.18.0\n",
      "pyparsing                 3.1.2\n",
      "PyQt5                     5.15.10\n",
      "PyQt5-sip                 12.13.0\n",
      "PySocks                   1.7.1\n",
      "python-dateutil           2.9.0.post0\n",
      "python-json-logger        2.0.7\n",
      "pytz                      2024.1\n",
      "PyYAML                    6.0.2\n",
      "pyzmq                     26.1.1\n",
      "qtconsole                 5.5.2\n",
      "QtPy                      2.4.1\n",
      "referencing               0.35.1\n",
      "requests                  2.32.2\n",
      "rfc3339-validator         0.1.4\n",
      "rfc3986-validator         0.1.1\n",
      "rpds-py                   0.20.0\n",
      "ruamel.yaml               0.17.21\n",
      "scikit-learn              1.5.1\n",
      "scipy                     1.14.1\n",
      "Send2Trash                1.8.3\n",
      "setuptools                69.5.1\n",
      "sip                       6.7.12\n",
      "six                       1.16.0\n",
      "sniffio                   1.3.1\n",
      "soupsieve                 2.6\n",
      "stack-data                0.6.3\n",
      "terminado                 0.18.1\n",
      "threadpoolctl             3.5.0\n",
      "tinycss2                  1.3.0\n",
      "tornado                   6.4.1\n",
      "tqdm                      4.66.4\n",
      "traitlets                 5.14.3\n",
      "truststore                0.8.0\n",
      "types-python-dateutil     2.9.0.20240316\n",
      "tzdata                    2024.1\n",
      "unicodedata2              15.1.0\n",
      "uri-template              1.3.0\n",
      "urllib3                   2.2.2\n",
      "wcwidth                   0.2.13\n",
      "webcolors                 24.8.0\n",
      "webencodings              0.5.1\n",
      "websocket-client          1.8.0\n",
      "wheel                     0.43.0\n",
      "widgetsnbextension        4.0.11\n",
      "zstandard                 0.22.0\n"
     ]
    }
   ],
   "source": [
    "!pip list"
   ]
  },
  {
   "cell_type": "markdown",
   "id": "c22fd213-0f13-4b6c-a43b-b004313c86b1",
   "metadata": {},
   "source": [
    "## Gold Data"
   ]
  },
  {
   "cell_type": "code",
   "execution_count": 161,
   "id": "f87fb274-548c-4774-9d92-ea409630a7dc",
   "metadata": {},
   "outputs": [],
   "source": [
    "gold_df = pd.read_csv(\"Cleaning_preprocessing/Data/mineral_data/gold_price.csv\")"
   ]
  },
  {
   "cell_type": "code",
   "execution_count": 162,
   "id": "4f2b962c-dfff-4b94-b586-888945b62cbe",
   "metadata": {},
   "outputs": [
    {
     "data": {
      "text/plain": [
       "Index(['date', 'price'], dtype='object')"
      ]
     },
     "execution_count": 162,
     "metadata": {},
     "output_type": "execute_result"
    }
   ],
   "source": [
    "gold_df.columns"
   ]
  },
  {
   "cell_type": "code",
   "execution_count": 163,
   "id": "381ef6af-91bd-4a49-a15c-22f20e2eb148",
   "metadata": {},
   "outputs": [
    {
     "data": {
      "text/plain": [
       "date       0\n",
       "price    141\n",
       "dtype: int64"
      ]
     },
     "execution_count": 163,
     "metadata": {},
     "output_type": "execute_result"
    }
   ],
   "source": [
    "gold_df.isna().sum()"
   ]
  },
  {
   "cell_type": "markdown",
   "id": "f1639d62-834a-4bee-b4b2-5dc0b765f1e8",
   "metadata": {},
   "source": [
    "### Gold Cleaning TODO list\n",
    "gold_df will need some cleaning to coorelation with dates in other data and to remove NA values"
   ]
  },
  {
   "cell_type": "code",
   "execution_count": 164,
   "id": "15d72042-01d0-490b-b4ab-3d34f2f6ae46",
   "metadata": {},
   "outputs": [
    {
     "data": {
      "text/plain": [
       "('1968-01-02', '2021-04-07')"
      ]
     },
     "execution_count": 164,
     "metadata": {},
     "output_type": "execute_result"
    }
   ],
   "source": [
    "gold_df.date.min(), gold_df.date.max()"
   ]
  },
  {
   "cell_type": "markdown",
   "id": "0de3bfbb-7e1b-4792-92a4-d90f0c7d8065",
   "metadata": {},
   "source": [
    "## Silver Data"
   ]
  },
  {
   "cell_type": "code",
   "execution_count": 165,
   "id": "1a9baa08-c100-4627-abc1-9e667052655c",
   "metadata": {},
   "outputs": [],
   "source": [
    "silver_df = pd.read_csv(\"Cleaning_preprocessing/Data/mineral_data/silver_price.csv\")"
   ]
  },
  {
   "cell_type": "code",
   "execution_count": 166,
   "id": "5ca45b09-d6a3-41d1-b900-7b44197818dc",
   "metadata": {},
   "outputs": [
    {
     "data": {
      "text/plain": [
       "('columns',\n",
       " Index(['date', 'price'], dtype='object'),\n",
       " 'NA values',\n",
       " date       0\n",
       " price    141\n",
       " dtype: int64,\n",
       " 'min/max',\n",
       " '1968-01-02',\n",
       " '2021-04-07')"
      ]
     },
     "execution_count": 166,
     "metadata": {},
     "output_type": "execute_result"
    }
   ],
   "source": [
    "'columns', gold_df.columns, 'NA values', gold_df.isna().sum(), 'min/max', gold_df.date.min(), gold_df.date.max()"
   ]
  },
  {
   "cell_type": "markdown",
   "id": "831e9632-5e4b-4d0c-81b1-b92fe20c32ae",
   "metadata": {},
   "source": [
    "### Silver Cleaning TODO list\n",
    "it appears that the silver_df needs the same cleaning as gold_df. "
   ]
  },
  {
   "cell_type": "markdown",
   "id": "c616aa9d-2efb-43c9-9950-bee371cd266b",
   "metadata": {},
   "source": [
    "## President Data"
   ]
  },
  {
   "cell_type": "code",
   "execution_count": 167,
   "id": "3ce0dfaa-fa3e-4eed-a1f2-81ac0bfa1139",
   "metadata": {},
   "outputs": [],
   "source": [
    "presidents_df = pd.read_csv(\"Cleaning_preprocessing/Data/presidents/US Presidential Election Results - Winners.csv\")"
   ]
  },
  {
   "cell_type": "code",
   "execution_count": 168,
   "id": "11a1201d-1c61-4ac0-93a3-8df5b1f97879",
   "metadata": {},
   "outputs": [
    {
     "data": {
      "text/html": [
       "<div>\n",
       "<style scoped>\n",
       "    .dataframe tbody tr th:only-of-type {\n",
       "        vertical-align: middle;\n",
       "    }\n",
       "\n",
       "    .dataframe tbody tr th {\n",
       "        vertical-align: top;\n",
       "    }\n",
       "\n",
       "    .dataframe thead th {\n",
       "        text-align: right;\n",
       "    }\n",
       "</style>\n",
       "<table border=\"1\" class=\"dataframe\">\n",
       "  <thead>\n",
       "    <tr style=\"text-align: right;\">\n",
       "      <th></th>\n",
       "      <th>ElectionYear</th>\n",
       "      <th>Winner</th>\n",
       "      <th>PartyAffiliation</th>\n",
       "      <th>PartyAbbrev</th>\n",
       "      <th>Vice President</th>\n",
       "    </tr>\n",
       "  </thead>\n",
       "  <tbody>\n",
       "    <tr>\n",
       "      <th>54</th>\n",
       "      <td>2004</td>\n",
       "      <td>George Bush</td>\n",
       "      <td>Republican</td>\n",
       "      <td>R</td>\n",
       "      <td>Dick Cheney</td>\n",
       "    </tr>\n",
       "    <tr>\n",
       "      <th>55</th>\n",
       "      <td>2008</td>\n",
       "      <td>Barack Obama</td>\n",
       "      <td>Democratic</td>\n",
       "      <td>D</td>\n",
       "      <td>Joe Biden</td>\n",
       "    </tr>\n",
       "    <tr>\n",
       "      <th>56</th>\n",
       "      <td>2012</td>\n",
       "      <td>Barack Obama</td>\n",
       "      <td>Democratic</td>\n",
       "      <td>D</td>\n",
       "      <td>Joe Biden</td>\n",
       "    </tr>\n",
       "    <tr>\n",
       "      <th>57</th>\n",
       "      <td>2016</td>\n",
       "      <td>Donald Trump</td>\n",
       "      <td>Republican</td>\n",
       "      <td>R</td>\n",
       "      <td>Mike Pence</td>\n",
       "    </tr>\n",
       "    <tr>\n",
       "      <th>58</th>\n",
       "      <td>2020</td>\n",
       "      <td>Joe Biden</td>\n",
       "      <td>Democratic</td>\n",
       "      <td>D</td>\n",
       "      <td>Kamala Harris</td>\n",
       "    </tr>\n",
       "  </tbody>\n",
       "</table>\n",
       "</div>"
      ],
      "text/plain": [
       "    ElectionYear        Winner PartyAffiliation PartyAbbrev Vice President\n",
       "54          2004   George Bush       Republican           R    Dick Cheney\n",
       "55          2008  Barack Obama       Democratic           D      Joe Biden\n",
       "56          2012  Barack Obama       Democratic           D      Joe Biden\n",
       "57          2016  Donald Trump       Republican           R     Mike Pence\n",
       "58          2020     Joe Biden       Democratic           D  Kamala Harris"
      ]
     },
     "execution_count": 168,
     "metadata": {},
     "output_type": "execute_result"
    }
   ],
   "source": [
    "presidents_df.tail()"
   ]
  },
  {
   "cell_type": "code",
   "execution_count": 169,
   "id": "7cc7a4dc-aa25-47c4-bc13-412c5cebb7c7",
   "metadata": {},
   "outputs": [
    {
     "data": {
      "text/plain": [
       "ElectionYear        0\n",
       "Winner              0\n",
       "PartyAffiliation    0\n",
       "PartyAbbrev         0\n",
       "Vice President      0\n",
       "dtype: int64"
      ]
     },
     "execution_count": 169,
     "metadata": {},
     "output_type": "execute_result"
    }
   ],
   "source": [
    "presidents_df.isna().sum()"
   ]
  },
  {
   "cell_type": "code",
   "execution_count": 170,
   "id": "7058df88-abbf-490d-84af-16bfed76f49e",
   "metadata": {},
   "outputs": [],
   "source": [
    "#presidents_df seems pretty clean"
   ]
  },
  {
   "cell_type": "code",
   "execution_count": 171,
   "id": "da1301f3-ec2d-4084-9b69-f607e94dfab6",
   "metadata": {},
   "outputs": [],
   "source": [
    "elect_results = pd.read_csv(\"Cleaning_preprocessing/Data/presidents/US Presidential Election Results - ResultsByCandidate.csv\")"
   ]
  },
  {
   "cell_type": "code",
   "execution_count": 172,
   "id": "7fc5201b-d368-48e0-98ee-0e50a06e64ec",
   "metadata": {},
   "outputs": [
    {
     "data": {
      "text/html": [
       "<div>\n",
       "<style scoped>\n",
       "    .dataframe tbody tr th:only-of-type {\n",
       "        vertical-align: middle;\n",
       "    }\n",
       "\n",
       "    .dataframe tbody tr th {\n",
       "        vertical-align: top;\n",
       "    }\n",
       "\n",
       "    .dataframe thead th {\n",
       "        text-align: right;\n",
       "    }\n",
       "</style>\n",
       "<table border=\"1\" class=\"dataframe\">\n",
       "  <thead>\n",
       "    <tr style=\"text-align: right;\">\n",
       "      <th></th>\n",
       "      <th>ElectionYear</th>\n",
       "      <th>CandidateName</th>\n",
       "      <th>HomeState</th>\n",
       "      <th>Incumbent?</th>\n",
       "      <th>CandParty</th>\n",
       "      <th>CandPartyAbbrev</th>\n",
       "      <th>PopularVote</th>\n",
       "      <th>PopVoteShare</th>\n",
       "      <th>ElectoralVotes</th>\n",
       "      <th>ElecVoteShare</th>\n",
       "    </tr>\n",
       "  </thead>\n",
       "  <tbody>\n",
       "    <tr>\n",
       "      <th>353</th>\n",
       "      <td>2016</td>\n",
       "      <td>Gloria La Riva</td>\n",
       "      <td>California</td>\n",
       "      <td>N</td>\n",
       "      <td>Socialism and Liberation</td>\n",
       "      <td>PSL</td>\n",
       "      <td>74,401</td>\n",
       "      <td>0.05%</td>\n",
       "      <td>0</td>\n",
       "      <td>0.00%</td>\n",
       "    </tr>\n",
       "    <tr>\n",
       "      <th>354</th>\n",
       "      <td>2020</td>\n",
       "      <td>Joseph R. Biden Jr.</td>\n",
       "      <td>Delaware</td>\n",
       "      <td>N</td>\n",
       "      <td>Democratic</td>\n",
       "      <td>D</td>\n",
       "      <td>81,268,924</td>\n",
       "      <td>51.31%</td>\n",
       "      <td>306</td>\n",
       "      <td>56.88%</td>\n",
       "    </tr>\n",
       "    <tr>\n",
       "      <th>355</th>\n",
       "      <td>2020</td>\n",
       "      <td>Donald J. Trump</td>\n",
       "      <td>Florida</td>\n",
       "      <td>N</td>\n",
       "      <td>Republican</td>\n",
       "      <td>R</td>\n",
       "      <td>74,216,154</td>\n",
       "      <td>46.86%</td>\n",
       "      <td>232</td>\n",
       "      <td>43.12%</td>\n",
       "    </tr>\n",
       "    <tr>\n",
       "      <th>356</th>\n",
       "      <td>2020</td>\n",
       "      <td>Jo Jorgensen</td>\n",
       "      <td>South Carolina</td>\n",
       "      <td>N</td>\n",
       "      <td>Libertarian</td>\n",
       "      <td>LT</td>\n",
       "      <td>1,865,724</td>\n",
       "      <td>1.18%</td>\n",
       "      <td>0</td>\n",
       "      <td>0.00%</td>\n",
       "    </tr>\n",
       "    <tr>\n",
       "      <th>357</th>\n",
       "      <td>2020</td>\n",
       "      <td>Howard G. Hawkins</td>\n",
       "      <td>New York</td>\n",
       "      <td>N</td>\n",
       "      <td>Green</td>\n",
       "      <td>G</td>\n",
       "      <td>405,035</td>\n",
       "      <td>0.26%</td>\n",
       "      <td>0</td>\n",
       "      <td>0.00%</td>\n",
       "    </tr>\n",
       "  </tbody>\n",
       "</table>\n",
       "</div>"
      ],
      "text/plain": [
       "     ElectionYear        CandidateName       HomeState Incumbent?  \\\n",
       "353          2016       Gloria La Riva      California          N   \n",
       "354          2020  Joseph R. Biden Jr.        Delaware          N   \n",
       "355          2020      Donald J. Trump         Florida          N   \n",
       "356          2020         Jo Jorgensen  South Carolina          N   \n",
       "357          2020    Howard G. Hawkins        New York          N   \n",
       "\n",
       "                    CandParty CandPartyAbbrev PopularVote PopVoteShare  \\\n",
       "353  Socialism and Liberation             PSL      74,401        0.05%   \n",
       "354                Democratic               D  81,268,924       51.31%   \n",
       "355                Republican               R  74,216,154       46.86%   \n",
       "356               Libertarian              LT   1,865,724        1.18%   \n",
       "357                     Green               G     405,035        0.26%   \n",
       "\n",
       "     ElectoralVotes ElecVoteShare  \n",
       "353               0         0.00%  \n",
       "354             306        56.88%  \n",
       "355             232        43.12%  \n",
       "356               0         0.00%  \n",
       "357               0         0.00%  "
      ]
     },
     "execution_count": 172,
     "metadata": {},
     "output_type": "execute_result"
    }
   ],
   "source": [
    "elect_results.tail()"
   ]
  },
  {
   "cell_type": "code",
   "execution_count": 173,
   "id": "f5cc4314-fba3-4039-b91b-8399c647109f",
   "metadata": {},
   "outputs": [
    {
     "data": {
      "text/plain": [
       "ElectionYear       0\n",
       "CandidateName      0\n",
       "HomeState          0\n",
       "Incumbent?         0\n",
       "CandParty          0\n",
       "CandPartyAbbrev    3\n",
       "PopularVote        0\n",
       "PopVoteShare       0\n",
       "ElectoralVotes     0\n",
       "ElecVoteShare      0\n",
       "dtype: int64"
      ]
     },
     "execution_count": 173,
     "metadata": {},
     "output_type": "execute_result"
    }
   ],
   "source": [
    "elect_results.isna().sum()"
   ]
  },
  {
   "cell_type": "markdown",
   "id": "acc4359e-f737-4107-9f99-32c6b113f82a",
   "metadata": {},
   "source": [
    "### President Cleaning TODO\n",
    "The presidential list itself looks clean enough for use. The results data lists all canidates that were in the party. For this project, only the winning canidate needs to be identified along with the vote percentages. A combined dataframe between the two would be ideal. It also seems that the names between the two databases are not consistent. For example: \"Joe Biden\" vs \"Joseph R. Biden Jr.\""
   ]
  },
  {
   "cell_type": "code",
   "execution_count": 174,
   "id": "890e60ab-eab1-4544-832b-ca83381e4597",
   "metadata": {},
   "outputs": [
    {
     "data": {
      "text/plain": [
       "((358, 10), (59, 5))"
      ]
     },
     "execution_count": 174,
     "metadata": {},
     "output_type": "execute_result"
    }
   ],
   "source": [
    "elect_results.shape, presidents_df.shape"
   ]
  },
  {
   "cell_type": "markdown",
   "id": "deb0ae1c-9f9a-4109-be96-3315c5079600",
   "metadata": {},
   "source": []
  },
  {
   "cell_type": "code",
   "execution_count": null,
   "id": "c9b00896-1f9c-4d69-a7aa-56c8dc387b8f",
   "metadata": {},
   "outputs": [],
   "source": []
  },
  {
   "cell_type": "code",
   "execution_count": null,
   "id": "9ab5b0c6-5022-4bf5-a688-d1906f465372",
   "metadata": {},
   "outputs": [],
   "source": []
  },
  {
   "cell_type": "code",
   "execution_count": null,
   "id": "bb7efd8b-34a4-4b8b-9051-22247db0da61",
   "metadata": {},
   "outputs": [],
   "source": []
  }
 ],
 "metadata": {
  "kernelspec": {
   "display_name": "Python 3 (ipykernel)",
   "language": "python",
   "name": "python3"
  },
  "language_info": {
   "codemirror_mode": {
    "name": "ipython",
    "version": 3
   },
   "file_extension": ".py",
   "mimetype": "text/x-python",
   "name": "python",
   "nbconvert_exporter": "python",
   "pygments_lexer": "ipython3",
   "version": "3.12.2"
  }
 },
 "nbformat": 4,
 "nbformat_minor": 5
}
