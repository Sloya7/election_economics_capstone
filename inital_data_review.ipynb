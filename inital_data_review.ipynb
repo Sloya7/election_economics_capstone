{
 "cells": [
  {
   "cell_type": "markdown",
   "id": "3a00afb7-a03c-430f-ad6a-03c97ace6f7d",
   "metadata": {},
   "source": [
    "# Data Introduction\n",
    "This notebook imports and takes a quick look at the data. Here the basic cleaning steps are identified. Actual cleaning will be applied in other scripts. Given the size and processing the stock market data will need, that data is su"
   ]
  },
  {
   "cell_type": "code",
   "execution_count": 1,
   "id": "2c14ea3b",
   "metadata": {},
   "outputs": [],
   "source": [
    "import pandas as pd"
   ]
  },
  {
   "cell_type": "markdown",
   "id": "c22fd213-0f13-4b6c-a43b-b004313c86b1",
   "metadata": {},
   "source": [
    "## Gold Data"
   ]
  },
  {
   "cell_type": "code",
   "execution_count": 2,
   "id": "f87fb274-548c-4774-9d92-ea409630a7dc",
   "metadata": {},
   "outputs": [],
   "source": [
    "gold_df = pd.read_csv(\"Data/gold_data/gold_price.csv\")"
   ]
  },
  {
   "cell_type": "code",
   "execution_count": 9,
   "id": "4f2b962c-dfff-4b94-b586-888945b62cbe",
   "metadata": {},
   "outputs": [
    {
     "data": {
      "text/plain": [
       "Index(['date', 'price'], dtype='object')"
      ]
     },
     "execution_count": 9,
     "metadata": {},
     "output_type": "execute_result"
    }
   ],
   "source": [
    "gold_df.columns"
   ]
  },
  {
   "cell_type": "code",
   "execution_count": 16,
   "id": "381ef6af-91bd-4a49-a15c-22f20e2eb148",
   "metadata": {},
   "outputs": [
    {
     "data": {
      "text/plain": [
       "date       0\n",
       "price    141\n",
       "dtype: int64"
      ]
     },
     "execution_count": 16,
     "metadata": {},
     "output_type": "execute_result"
    }
   ],
   "source": [
    "gold_df.isna().sum()"
   ]
  },
  {
   "cell_type": "markdown",
   "id": "f1639d62-834a-4bee-b4b2-5dc0b765f1e8",
   "metadata": {},
   "source": [
    "### Gold Cleaning TODO list\n",
    "gold_df will need some cleaning to coorelation with dates in other data and to remove NA values"
   ]
  },
  {
   "cell_type": "code",
   "execution_count": 17,
   "id": "15d72042-01d0-490b-b4ab-3d34f2f6ae46",
   "metadata": {},
   "outputs": [
    {
     "data": {
      "text/plain": [
       "('1968-01-02', '2021-04-07')"
      ]
     },
     "execution_count": 17,
     "metadata": {},
     "output_type": "execute_result"
    }
   ],
   "source": [
    "gold_df.date.min(), gold_df.date.max()"
   ]
  },
  {
   "cell_type": "markdown",
   "id": "0de3bfbb-7e1b-4792-92a4-d90f0c7d8065",
   "metadata": {},
   "source": [
    "## Silver Data"
   ]
  },
  {
   "cell_type": "code",
   "execution_count": 19,
   "id": "1a9baa08-c100-4627-abc1-9e667052655c",
   "metadata": {},
   "outputs": [],
   "source": [
    "silver_df = pd.read_csv(\"Data/gold_data/silver_price.csv\")"
   ]
  },
  {
   "cell_type": "code",
   "execution_count": 20,
   "id": "5ca45b09-d6a3-41d1-b900-7b44197818dc",
   "metadata": {},
   "outputs": [
    {
     "data": {
      "text/plain": [
       "('columns',\n",
       " Index(['date', 'price'], dtype='object'),\n",
       " 'NA values',\n",
       " date       0\n",
       " price    141\n",
       " dtype: int64,\n",
       " 'min/max',\n",
       " '1968-01-02',\n",
       " '2021-04-07')"
      ]
     },
     "execution_count": 20,
     "metadata": {},
     "output_type": "execute_result"
    }
   ],
   "source": [
    "'columns', gold_df.columns, 'NA values', gold_df.isna().sum(), 'min/max', gold_df.date.min(), gold_df.date.max()"
   ]
  },
  {
   "cell_type": "markdown",
   "id": "831e9632-5e4b-4d0c-81b1-b92fe20c32ae",
   "metadata": {},
   "source": [
    "### Silver Cleaning TODO list\n",
    "it appears that the silver_df needs the same cleaning as gold_df. "
   ]
  },
  {
   "cell_type": "markdown",
   "id": "c616aa9d-2efb-43c9-9950-bee371cd266b",
   "metadata": {},
   "source": [
    "## President Data"
   ]
  },
  {
   "cell_type": "code",
   "execution_count": 42,
   "id": "3ce0dfaa-fa3e-4eed-a1f2-81ac0bfa1139",
   "metadata": {},
   "outputs": [],
   "source": [
    "presidents_df = pd.read_csv(\"Data/presidents/USPresidentialElectionResults/USPresidentialElectionResults/US Presidential Election Results - Winners.csv\")"
   ]
  },
  {
   "cell_type": "code",
   "execution_count": 46,
   "id": "11a1201d-1c61-4ac0-93a3-8df5b1f97879",
   "metadata": {},
   "outputs": [
    {
     "data": {
      "text/html": [
       "<div>\n",
       "<style scoped>\n",
       "    .dataframe tbody tr th:only-of-type {\n",
       "        vertical-align: middle;\n",
       "    }\n",
       "\n",
       "    .dataframe tbody tr th {\n",
       "        vertical-align: top;\n",
       "    }\n",
       "\n",
       "    .dataframe thead th {\n",
       "        text-align: right;\n",
       "    }\n",
       "</style>\n",
       "<table border=\"1\" class=\"dataframe\">\n",
       "  <thead>\n",
       "    <tr style=\"text-align: right;\">\n",
       "      <th></th>\n",
       "      <th>ElectionYear</th>\n",
       "      <th>Winner</th>\n",
       "      <th>PartyAffiliation</th>\n",
       "      <th>PartyAbbrev</th>\n",
       "      <th>Vice President</th>\n",
       "    </tr>\n",
       "  </thead>\n",
       "  <tbody>\n",
       "    <tr>\n",
       "      <th>54</th>\n",
       "      <td>2004</td>\n",
       "      <td>George Bush</td>\n",
       "      <td>Republican</td>\n",
       "      <td>R</td>\n",
       "      <td>Dick Cheney</td>\n",
       "    </tr>\n",
       "    <tr>\n",
       "      <th>55</th>\n",
       "      <td>2008</td>\n",
       "      <td>Barack Obama</td>\n",
       "      <td>Democratic</td>\n",
       "      <td>D</td>\n",
       "      <td>Joe Biden</td>\n",
       "    </tr>\n",
       "    <tr>\n",
       "      <th>56</th>\n",
       "      <td>2012</td>\n",
       "      <td>Barack Obama</td>\n",
       "      <td>Democratic</td>\n",
       "      <td>D</td>\n",
       "      <td>Joe Biden</td>\n",
       "    </tr>\n",
       "    <tr>\n",
       "      <th>57</th>\n",
       "      <td>2016</td>\n",
       "      <td>Donald Trump</td>\n",
       "      <td>Republican</td>\n",
       "      <td>R</td>\n",
       "      <td>Mike Pence</td>\n",
       "    </tr>\n",
       "    <tr>\n",
       "      <th>58</th>\n",
       "      <td>2020</td>\n",
       "      <td>Joe Biden</td>\n",
       "      <td>Democratic</td>\n",
       "      <td>D</td>\n",
       "      <td>Kamala Harris</td>\n",
       "    </tr>\n",
       "  </tbody>\n",
       "</table>\n",
       "</div>"
      ],
      "text/plain": [
       "    ElectionYear        Winner PartyAffiliation PartyAbbrev Vice President\n",
       "54          2004   George Bush       Republican           R    Dick Cheney\n",
       "55          2008  Barack Obama       Democratic           D      Joe Biden\n",
       "56          2012  Barack Obama       Democratic           D      Joe Biden\n",
       "57          2016  Donald Trump       Republican           R     Mike Pence\n",
       "58          2020     Joe Biden       Democratic           D  Kamala Harris"
      ]
     },
     "execution_count": 46,
     "metadata": {},
     "output_type": "execute_result"
    }
   ],
   "source": [
    "presidents_df.tail()"
   ]
  },
  {
   "cell_type": "code",
   "execution_count": 44,
   "id": "7cc7a4dc-aa25-47c4-bc13-412c5cebb7c7",
   "metadata": {},
   "outputs": [
    {
     "data": {
      "text/plain": [
       "ElectionYear        0\n",
       "Winner              0\n",
       "PartyAffiliation    0\n",
       "PartyAbbrev         0\n",
       "Vice President      0\n",
       "dtype: int64"
      ]
     },
     "execution_count": 44,
     "metadata": {},
     "output_type": "execute_result"
    }
   ],
   "source": [
    "presidents_df.isna().sum()"
   ]
  },
  {
   "cell_type": "code",
   "execution_count": 28,
   "id": "7058df88-abbf-490d-84af-16bfed76f49e",
   "metadata": {},
   "outputs": [],
   "source": [
    "#presidents_df seems pretty clean"
   ]
  },
  {
   "cell_type": "code",
   "execution_count": 29,
   "id": "da1301f3-ec2d-4084-9b69-f607e94dfab6",
   "metadata": {},
   "outputs": [],
   "source": [
    "elect_results = pd.read_csv(\"Data/presidents/USPresidentialElectionResults/USPresidentialElectionResults/US Presidential Election Results - ResultsByCandidate.csv\")"
   ]
  },
  {
   "cell_type": "code",
   "execution_count": 31,
   "id": "7fc5201b-d368-48e0-98ee-0e50a06e64ec",
   "metadata": {},
   "outputs": [
    {
     "data": {
      "text/html": [
       "<div>\n",
       "<style scoped>\n",
       "    .dataframe tbody tr th:only-of-type {\n",
       "        vertical-align: middle;\n",
       "    }\n",
       "\n",
       "    .dataframe tbody tr th {\n",
       "        vertical-align: top;\n",
       "    }\n",
       "\n",
       "    .dataframe thead th {\n",
       "        text-align: right;\n",
       "    }\n",
       "</style>\n",
       "<table border=\"1\" class=\"dataframe\">\n",
       "  <thead>\n",
       "    <tr style=\"text-align: right;\">\n",
       "      <th></th>\n",
       "      <th>ElectionYear</th>\n",
       "      <th>CandidateName</th>\n",
       "      <th>HomeState</th>\n",
       "      <th>Incumbent?</th>\n",
       "      <th>CandParty</th>\n",
       "      <th>CandPartyAbbrev</th>\n",
       "      <th>PopularVote</th>\n",
       "      <th>PopVoteShare</th>\n",
       "      <th>ElectoralVotes</th>\n",
       "      <th>ElecVoteShare</th>\n",
       "    </tr>\n",
       "  </thead>\n",
       "  <tbody>\n",
       "    <tr>\n",
       "      <th>353</th>\n",
       "      <td>2016</td>\n",
       "      <td>Gloria La Riva</td>\n",
       "      <td>California</td>\n",
       "      <td>N</td>\n",
       "      <td>Socialism and Liberation</td>\n",
       "      <td>PSL</td>\n",
       "      <td>74,401</td>\n",
       "      <td>0.05%</td>\n",
       "      <td>0</td>\n",
       "      <td>0.00%</td>\n",
       "    </tr>\n",
       "    <tr>\n",
       "      <th>354</th>\n",
       "      <td>2020</td>\n",
       "      <td>Joseph R. Biden Jr.</td>\n",
       "      <td>Delaware</td>\n",
       "      <td>N</td>\n",
       "      <td>Democratic</td>\n",
       "      <td>D</td>\n",
       "      <td>81,268,924</td>\n",
       "      <td>51.31%</td>\n",
       "      <td>306</td>\n",
       "      <td>56.88%</td>\n",
       "    </tr>\n",
       "    <tr>\n",
       "      <th>355</th>\n",
       "      <td>2020</td>\n",
       "      <td>Donald J. Trump</td>\n",
       "      <td>Florida</td>\n",
       "      <td>N</td>\n",
       "      <td>Republican</td>\n",
       "      <td>R</td>\n",
       "      <td>74,216,154</td>\n",
       "      <td>46.86%</td>\n",
       "      <td>232</td>\n",
       "      <td>43.12%</td>\n",
       "    </tr>\n",
       "    <tr>\n",
       "      <th>356</th>\n",
       "      <td>2020</td>\n",
       "      <td>Jo Jorgensen</td>\n",
       "      <td>South Carolina</td>\n",
       "      <td>N</td>\n",
       "      <td>Libertarian</td>\n",
       "      <td>LT</td>\n",
       "      <td>1,865,724</td>\n",
       "      <td>1.18%</td>\n",
       "      <td>0</td>\n",
       "      <td>0.00%</td>\n",
       "    </tr>\n",
       "    <tr>\n",
       "      <th>357</th>\n",
       "      <td>2020</td>\n",
       "      <td>Howard G. Hawkins</td>\n",
       "      <td>New York</td>\n",
       "      <td>N</td>\n",
       "      <td>Green</td>\n",
       "      <td>G</td>\n",
       "      <td>405,035</td>\n",
       "      <td>0.26%</td>\n",
       "      <td>0</td>\n",
       "      <td>0.00%</td>\n",
       "    </tr>\n",
       "  </tbody>\n",
       "</table>\n",
       "</div>"
      ],
      "text/plain": [
       "     ElectionYear        CandidateName       HomeState Incumbent?  \\\n",
       "353          2016       Gloria La Riva      California          N   \n",
       "354          2020  Joseph R. Biden Jr.        Delaware          N   \n",
       "355          2020      Donald J. Trump         Florida          N   \n",
       "356          2020         Jo Jorgensen  South Carolina          N   \n",
       "357          2020    Howard G. Hawkins        New York          N   \n",
       "\n",
       "                    CandParty CandPartyAbbrev PopularVote PopVoteShare  \\\n",
       "353  Socialism and Liberation             PSL      74,401        0.05%   \n",
       "354                Democratic               D  81,268,924       51.31%   \n",
       "355                Republican               R  74,216,154       46.86%   \n",
       "356               Libertarian              LT   1,865,724        1.18%   \n",
       "357                     Green               G     405,035        0.26%   \n",
       "\n",
       "     ElectoralVotes ElecVoteShare  \n",
       "353               0         0.00%  \n",
       "354             306        56.88%  \n",
       "355             232        43.12%  \n",
       "356               0         0.00%  \n",
       "357               0         0.00%  "
      ]
     },
     "execution_count": 31,
     "metadata": {},
     "output_type": "execute_result"
    }
   ],
   "source": [
    "elect_results.tail()"
   ]
  },
  {
   "cell_type": "code",
   "execution_count": 32,
   "id": "f5cc4314-fba3-4039-b91b-8399c647109f",
   "metadata": {},
   "outputs": [
    {
     "data": {
      "text/plain": [
       "ElectionYear       0\n",
       "CandidateName      0\n",
       "HomeState          0\n",
       "Incumbent?         0\n",
       "CandParty          0\n",
       "CandPartyAbbrev    3\n",
       "PopularVote        0\n",
       "PopVoteShare       0\n",
       "ElectoralVotes     0\n",
       "ElecVoteShare      0\n",
       "dtype: int64"
      ]
     },
     "execution_count": 32,
     "metadata": {},
     "output_type": "execute_result"
    }
   ],
   "source": [
    "elect_results.isna().sum()"
   ]
  },
  {
   "cell_type": "markdown",
   "id": "acc4359e-f737-4107-9f99-32c6b113f82a",
   "metadata": {},
   "source": [
    "### President Cleaning TODO\n",
    "The presidential list itself looks clean enough for use. The results data lists all canidates that were in the party. For this project, only the winning canidate needs to be identified along with the vote percentages. A combined dataframe between the two would be ideal. It also seems that the names between the two databases are not consistent. For example: \"Joe Biden\" vs \"Joseph R. Biden Jr.\""
   ]
  },
  {
   "cell_type": "code",
   "execution_count": 45,
   "id": "890e60ab-eab1-4544-832b-ca83381e4597",
   "metadata": {},
   "outputs": [
    {
     "data": {
      "text/plain": [
       "((358, 10), (59, 5))"
      ]
     },
     "execution_count": 45,
     "metadata": {},
     "output_type": "execute_result"
    }
   ],
   "source": [
    "elect_results.shape, presidents_df.shape"
   ]
  },
  {
   "cell_type": "markdown",
   "id": "deb0ae1c-9f9a-4109-be96-3315c5079600",
   "metadata": {},
   "source": []
  }
 ],
 "metadata": {
  "kernelspec": {
   "display_name": "Python 3 (ipykernel)",
   "language": "python",
   "name": "python3"
  },
  "language_info": {
   "codemirror_mode": {
    "name": "ipython",
    "version": 3
   },
   "file_extension": ".py",
   "mimetype": "text/x-python",
   "name": "python",
   "nbconvert_exporter": "python",
   "pygments_lexer": "ipython3",
   "version": "3.12.4"
  }
 },
 "nbformat": 4,
 "nbformat_minor": 5
}
