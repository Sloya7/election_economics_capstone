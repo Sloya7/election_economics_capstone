{
 "cells": [
  {
   "cell_type": "code",
   "execution_count": 115,
   "id": "bf02b65b-b615-4e9b-baa5-19e4dde208ce",
   "metadata": {},
   "outputs": [],
   "source": [
    "import pandas as pd"
   ]
  },
  {
   "cell_type": "code",
   "execution_count": 116,
   "id": "6568a12c-97c3-4929-aa94-e67110974498",
   "metadata": {},
   "outputs": [],
   "source": [
    "file = \"/home/sloya7/miniconda3/election_economics_capstone-1/Data/mineral_data/gold_price.csv\"\n",
    "gold_df = pd.read_csv(file)"
   ]
  },
  {
   "cell_type": "code",
   "execution_count": 117,
   "id": "c36c2a17-2aad-42c4-9bc9-137b41cffe88",
   "metadata": {},
   "outputs": [
    {
     "data": {
      "text/plain": [
       "(13461, 2)"
      ]
     },
     "execution_count": 117,
     "metadata": {},
     "output_type": "execute_result"
    }
   ],
   "source": [
    "gold_df.shape"
   ]
  },
  {
   "cell_type": "code",
   "execution_count": 118,
   "id": "370e7d06-b8df-41f1-a4e7-66dec6a619c4",
   "metadata": {},
   "outputs": [
    {
     "data": {
      "text/plain": [
       "date       0\n",
       "price    141\n",
       "dtype: int64"
      ]
     },
     "execution_count": 118,
     "metadata": {},
     "output_type": "execute_result"
    }
   ],
   "source": [
    "gold_df.isna().sum()"
   ]
  },
  {
   "cell_type": "code",
   "execution_count": 119,
   "id": "bce9a580-dbd6-442b-99c4-d35b3decd3f0",
   "metadata": {},
   "outputs": [
    {
     "data": {
      "text/plain": [
       "(13320, 2)"
      ]
     },
     "execution_count": 119,
     "metadata": {},
     "output_type": "execute_result"
    }
   ],
   "source": [
    "gold_df = gold_df.dropna()\n",
    "gold_df.shape"
   ]
  },
  {
   "cell_type": "code",
   "execution_count": 120,
   "id": "e4b58e36-4ef2-41ce-b790-2a4f4a9cfcf6",
   "metadata": {},
   "outputs": [
    {
     "name": "stdout",
     "output_type": "stream",
     "text": [
      "<class 'pandas.core.frame.DataFrame'>\n",
      "Index: 13320 entries, 63 to 13460\n",
      "Data columns (total 2 columns):\n",
      " #   Column  Non-Null Count  Dtype  \n",
      "---  ------  --------------  -----  \n",
      " 0   date    13320 non-null  object \n",
      " 1   price   13320 non-null  float64\n",
      "dtypes: float64(1), object(1)\n",
      "memory usage: 312.2+ KB\n"
     ]
    }
   ],
   "source": [
    "gold_df.info()"
   ]
  },
  {
   "cell_type": "code",
   "execution_count": 121,
   "id": "dad87162-f1b3-41ea-bf09-cbe1aa34b1fe",
   "metadata": {},
   "outputs": [],
   "source": [
    "gold_df.date = pd.to_datetime(gold_df.date)"
   ]
  },
  {
   "cell_type": "code",
   "execution_count": 122,
   "id": "7b349871-032a-4885-a929-0287426a17de",
   "metadata": {},
   "outputs": [
    {
     "data": {
      "text/plain": [
       "63       1968\n",
       "64       1968\n",
       "65       1968\n",
       "66       1968\n",
       "67       1968\n",
       "         ... \n",
       "13456    2021\n",
       "13457    2021\n",
       "13458    2021\n",
       "13459    2021\n",
       "13460    2021\n",
       "Name: date, Length: 13320, dtype: int32"
      ]
     },
     "execution_count": 122,
     "metadata": {},
     "output_type": "execute_result"
    }
   ],
   "source": [
    "gold_df.date.dt.year"
   ]
  },
  {
   "cell_type": "code",
   "execution_count": 123,
   "id": "2665624e-dfe3-4e28-a133-3e0eca40f7ae",
   "metadata": {},
   "outputs": [],
   "source": [
    "gold_df['Year'] = gold_df.date.dt.year"
   ]
  },
  {
   "cell_type": "code",
   "execution_count": 124,
   "id": "4b1ea95e-ef76-410f-bb81-d49f1acc4b9b",
   "metadata": {},
   "outputs": [
    {
     "data": {
      "text/html": [
       "<div>\n",
       "<style scoped>\n",
       "    .dataframe tbody tr th:only-of-type {\n",
       "        vertical-align: middle;\n",
       "    }\n",
       "\n",
       "    .dataframe tbody tr th {\n",
       "        vertical-align: top;\n",
       "    }\n",
       "\n",
       "    .dataframe thead th {\n",
       "        text-align: right;\n",
       "    }\n",
       "</style>\n",
       "<table border=\"1\" class=\"dataframe\">\n",
       "  <thead>\n",
       "    <tr style=\"text-align: right;\">\n",
       "      <th></th>\n",
       "      <th>date</th>\n",
       "      <th>price</th>\n",
       "      <th>Year</th>\n",
       "    </tr>\n",
       "  </thead>\n",
       "  <tbody>\n",
       "    <tr>\n",
       "      <th>63</th>\n",
       "      <td>1968-04-01</td>\n",
       "      <td>37.70</td>\n",
       "      <td>1968</td>\n",
       "    </tr>\n",
       "    <tr>\n",
       "      <th>64</th>\n",
       "      <td>1968-04-02</td>\n",
       "      <td>37.30</td>\n",
       "      <td>1968</td>\n",
       "    </tr>\n",
       "    <tr>\n",
       "      <th>65</th>\n",
       "      <td>1968-04-03</td>\n",
       "      <td>37.60</td>\n",
       "      <td>1968</td>\n",
       "    </tr>\n",
       "    <tr>\n",
       "      <th>66</th>\n",
       "      <td>1968-04-04</td>\n",
       "      <td>36.95</td>\n",
       "      <td>1968</td>\n",
       "    </tr>\n",
       "    <tr>\n",
       "      <th>67</th>\n",
       "      <td>1968-04-05</td>\n",
       "      <td>37.00</td>\n",
       "      <td>1968</td>\n",
       "    </tr>\n",
       "    <tr>\n",
       "      <th>...</th>\n",
       "      <td>...</td>\n",
       "      <td>...</td>\n",
       "      <td>...</td>\n",
       "    </tr>\n",
       "    <tr>\n",
       "      <th>13456</th>\n",
       "      <td>2021-03-30</td>\n",
       "      <td>1683.95</td>\n",
       "      <td>2021</td>\n",
       "    </tr>\n",
       "    <tr>\n",
       "      <th>13457</th>\n",
       "      <td>2021-03-31</td>\n",
       "      <td>1691.05</td>\n",
       "      <td>2021</td>\n",
       "    </tr>\n",
       "    <tr>\n",
       "      <th>13458</th>\n",
       "      <td>2021-04-01</td>\n",
       "      <td>1726.05</td>\n",
       "      <td>2021</td>\n",
       "    </tr>\n",
       "    <tr>\n",
       "      <th>13459</th>\n",
       "      <td>2021-04-06</td>\n",
       "      <td>1744.65</td>\n",
       "      <td>2021</td>\n",
       "    </tr>\n",
       "    <tr>\n",
       "      <th>13460</th>\n",
       "      <td>2021-04-07</td>\n",
       "      <td>1738.05</td>\n",
       "      <td>2021</td>\n",
       "    </tr>\n",
       "  </tbody>\n",
       "</table>\n",
       "<p>13320 rows × 3 columns</p>\n",
       "</div>"
      ],
      "text/plain": [
       "            date    price  Year\n",
       "63    1968-04-01    37.70  1968\n",
       "64    1968-04-02    37.30  1968\n",
       "65    1968-04-03    37.60  1968\n",
       "66    1968-04-04    36.95  1968\n",
       "67    1968-04-05    37.00  1968\n",
       "...          ...      ...   ...\n",
       "13456 2021-03-30  1683.95  2021\n",
       "13457 2021-03-31  1691.05  2021\n",
       "13458 2021-04-01  1726.05  2021\n",
       "13459 2021-04-06  1744.65  2021\n",
       "13460 2021-04-07  1738.05  2021\n",
       "\n",
       "[13320 rows x 3 columns]"
      ]
     },
     "execution_count": 124,
     "metadata": {},
     "output_type": "execute_result"
    }
   ],
   "source": [
    "gold_df"
   ]
  },
  {
   "cell_type": "code",
   "execution_count": 125,
   "id": "800bdc6d-1443-49f9-b8a4-d6c6549d86ad",
   "metadata": {},
   "outputs": [],
   "source": [
    "yearly_gold = gold_df.groupby(gold_df.Year)"
   ]
  },
  {
   "cell_type": "code",
   "execution_count": 126,
   "id": "6fed03e8-181e-4a9e-adcc-02124ce6ca4c",
   "metadata": {},
   "outputs": [],
   "source": [
    "# Find the first and last day of the year for each year\n",
    "earliest_dates = yearly_gold.min()\n",
    "last_dates = yearly_gold.max()\n",
    "test = earliest_dates, last_dates"
   ]
  },
  {
   "cell_type": "code",
   "execution_count": 127,
   "id": "f8071a10-bc11-4bd7-9fbe-9dc5afe3abfc",
   "metadata": {},
   "outputs": [],
   "source": [
    "start_end_dates = gold_df.query(\"date in @earliest_dates.date or date in @last_dates.date\")"
   ]
  },
  {
   "cell_type": "code",
   "execution_count": 129,
   "id": "cb8c1a2f-8cb5-40ad-9174-51278f215e31",
   "metadata": {},
   "outputs": [
    {
     "data": {
      "text/html": [
       "<div>\n",
       "<style scoped>\n",
       "    .dataframe tbody tr th:only-of-type {\n",
       "        vertical-align: middle;\n",
       "    }\n",
       "\n",
       "    .dataframe tbody tr th {\n",
       "        vertical-align: top;\n",
       "    }\n",
       "\n",
       "    .dataframe thead th {\n",
       "        text-align: right;\n",
       "    }\n",
       "</style>\n",
       "<table border=\"1\" class=\"dataframe\">\n",
       "  <thead>\n",
       "    <tr style=\"text-align: right;\">\n",
       "      <th></th>\n",
       "      <th>date</th>\n",
       "      <th>price</th>\n",
       "      <th>Year</th>\n",
       "    </tr>\n",
       "  </thead>\n",
       "  <tbody>\n",
       "    <tr>\n",
       "      <th>63</th>\n",
       "      <td>1968-04-01</td>\n",
       "      <td>37.700</td>\n",
       "      <td>1968</td>\n",
       "    </tr>\n",
       "    <tr>\n",
       "      <th>253</th>\n",
       "      <td>1968-12-31</td>\n",
       "      <td>41.900</td>\n",
       "      <td>1968</td>\n",
       "    </tr>\n",
       "    <tr>\n",
       "      <th>254</th>\n",
       "      <td>1969-01-02</td>\n",
       "      <td>41.800</td>\n",
       "      <td>1969</td>\n",
       "    </tr>\n",
       "    <tr>\n",
       "      <th>507</th>\n",
       "      <td>1969-12-31</td>\n",
       "      <td>35.200</td>\n",
       "      <td>1969</td>\n",
       "    </tr>\n",
       "    <tr>\n",
       "      <th>508</th>\n",
       "      <td>1970-01-02</td>\n",
       "      <td>35.075</td>\n",
       "      <td>1970</td>\n",
       "    </tr>\n",
       "    <tr>\n",
       "      <th>...</th>\n",
       "      <td>...</td>\n",
       "      <td>...</td>\n",
       "      <td>...</td>\n",
       "    </tr>\n",
       "    <tr>\n",
       "      <th>13142</th>\n",
       "      <td>2019-12-30</td>\n",
       "      <td>1514.750</td>\n",
       "      <td>2019</td>\n",
       "    </tr>\n",
       "    <tr>\n",
       "      <th>13143</th>\n",
       "      <td>2020-01-02</td>\n",
       "      <td>1527.100</td>\n",
       "      <td>2020</td>\n",
       "    </tr>\n",
       "    <tr>\n",
       "      <th>13394</th>\n",
       "      <td>2020-12-30</td>\n",
       "      <td>1887.600</td>\n",
       "      <td>2020</td>\n",
       "    </tr>\n",
       "    <tr>\n",
       "      <th>13395</th>\n",
       "      <td>2021-01-04</td>\n",
       "      <td>1943.200</td>\n",
       "      <td>2021</td>\n",
       "    </tr>\n",
       "    <tr>\n",
       "      <th>13460</th>\n",
       "      <td>2021-04-07</td>\n",
       "      <td>1738.050</td>\n",
       "      <td>2021</td>\n",
       "    </tr>\n",
       "  </tbody>\n",
       "</table>\n",
       "<p>108 rows × 3 columns</p>\n",
       "</div>"
      ],
      "text/plain": [
       "            date     price  Year\n",
       "63    1968-04-01    37.700  1968\n",
       "253   1968-12-31    41.900  1968\n",
       "254   1969-01-02    41.800  1969\n",
       "507   1969-12-31    35.200  1969\n",
       "508   1970-01-02    35.075  1970\n",
       "...          ...       ...   ...\n",
       "13142 2019-12-30  1514.750  2019\n",
       "13143 2020-01-02  1527.100  2020\n",
       "13394 2020-12-30  1887.600  2020\n",
       "13395 2021-01-04  1943.200  2021\n",
       "13460 2021-04-07  1738.050  2021\n",
       "\n",
       "[108 rows x 3 columns]"
      ]
     },
     "execution_count": 129,
     "metadata": {},
     "output_type": "execute_result"
    }
   ],
   "source": [
    "start_end_dates"
   ]
  },
  {
   "cell_type": "code",
   "execution_count": 100,
   "id": "db4ae123-3fce-4d14-91de-e2330b1bd8cb",
   "metadata": {},
   "outputs": [],
   "source": []
  },
  {
   "cell_type": "code",
   "execution_count": 112,
   "id": "3abe37e6-2851-429d-be21-4dbb2d09f93e",
   "metadata": {},
   "outputs": [
    {
     "name": "stderr",
     "output_type": "stream",
     "text": [
      "/tmp/ipykernel_482391/3257861386.py:1: FutureWarning: The behavior of DataFrame concatenation with empty or all-NA entries is deprecated. In a future version, this will no longer exclude empty or all-NA columns when determining the result dtypes. To retain the old behavior, exclude the relevant entries before the concat operation.\n",
      "  complete_df.loc['Year'] = start_end_dates.date.dt.year\n",
      "/tmp/ipykernel_482391/3257861386.py:1: SettingWithCopyWarning: \n",
      "A value is trying to be set on a copy of a slice from a DataFrame\n",
      "\n",
      "See the caveats in the documentation: https://pandas.pydata.org/pandas-docs/stable/user_guide/indexing.html#returning-a-view-versus-a-copy\n",
      "  complete_df.loc['Year'] = start_end_dates.date.dt.year\n"
     ]
    }
   ],
   "source": [
    "output_df = pd.DataFrame(columns = [ 'Year','ETF_name','Year_Open', 'Year_Close', 'Year_Change', 'Loss', 'Gain'])\n",
    "\n",
    "#loop to generate new row in output database\n",
    "for i in start_end_dates.Year.unique():\n",
    "\n",
    "    #groups date data by year\n",
    "    year_df = start_end_dates[start_end_dates.Year == i]\n",
    "\n",
    "    #uses objects to reference needed values\n",
    "    open = yearly_gold.iloc[0].Open\n",
    "    close = yearly_gold.iloc[1].Close\n",
    "    change = close - open\n",
    "    \n",
    "    # creates mapping array \n",
    "    new_row = {'Year':i, 'ETF_name':year_df.iloc[0].ETF_name, 'Year_Open':open, 'Year_Close':close, 'Year_Change':change}\n",
    "    \n",
    "    # inserts data into new row of the output dataframe\n",
    "    output_df.loc[len(output_df)] = new_row\n",
    "\n",
    "output_df['Loss'] = 'no'\n",
    "output_df['Gain'] = 'no'\n",
    "    "
   ]
  },
  {
   "cell_type": "code",
   "execution_count": 113,
   "id": "cb5ca33f-15d8-492e-b03c-02ca2f4b09ec",
   "metadata": {},
   "outputs": [
    {
     "name": "stdout",
     "output_type": "stream",
     "text": [
      "<class 'pandas.core.frame.DataFrame'>\n",
      "Index: 109 entries, 63 to Year\n",
      "Data columns (total 4 columns):\n",
      " #   Column                 Non-Null Count  Dtype         \n",
      "---  ------                 --------------  -----         \n",
      " 0   date                   108 non-null    datetime64[ns]\n",
      " 1   price                  108 non-null    float64       \n",
      " 2   Year                   108 non-null    float64       \n",
      " 3   (Open, Close, change)  108 non-null    object        \n",
      "dtypes: datetime64[ns](1), float64(2), object(1)\n",
      "memory usage: 4.3+ KB\n"
     ]
    }
   ],
   "source": [
    "complete_df.info()"
   ]
  },
  {
   "cell_type": "code",
   "execution_count": null,
   "id": "48590c93-0c6d-48b3-b8d1-cd44eb1a03d5",
   "metadata": {},
   "outputs": [],
   "source": []
  }
 ],
 "metadata": {
  "kernelspec": {
   "display_name": "Python 3 (ipykernel)",
   "language": "python",
   "name": "python3"
  },
  "language_info": {
   "codemirror_mode": {
    "name": "ipython",
    "version": 3
   },
   "file_extension": ".py",
   "mimetype": "text/x-python",
   "name": "python",
   "nbconvert_exporter": "python",
   "pygments_lexer": "ipython3",
   "version": "3.12.4"
  }
 },
 "nbformat": 4,
 "nbformat_minor": 5
}
